{
 "cells": [
  {
   "cell_type": "markdown",
   "metadata": {},
   "source": [
    "# MAGIC Data\n",
    "\n",
    "This notebook is to analyze the MAGIC dataset"
   ]
  },
  {
   "cell_type": "markdown",
   "metadata": {},
   "source": [
    "Setting up the directories"
   ]
  },
  {
   "cell_type": "code",
   "execution_count": 3,
   "metadata": {},
   "outputs": [],
   "source": [
    "from pathlib import Path\n",
    "\n",
    "project_dir = Path.cwd().parent\n",
    "upper_dir = project_dir.parent.parent\n",
    "\n",
    "resources_dir = upper_dir / \"VS Code Resources\" / \"Baeuda Resources\"\n",
    "magic_data_dir = resources_dir / \"MAGIC Data\""
   ]
  },
  {
   "cell_type": "markdown",
   "metadata": {},
   "source": [
    "Importing important libraries and loading the data"
   ]
  },
  {
   "cell_type": "code",
   "execution_count": 4,
   "metadata": {},
   "outputs": [],
   "source": [
    "import pandas as pd\n",
    "\n",
    "dataframe = pd.read_csv(magic_data_dir / \"magic04.data\")"
   ]
  },
  {
   "cell_type": "code",
   "execution_count": 5,
   "metadata": {},
   "outputs": [
    {
     "name": "stdout",
     "output_type": "stream",
     "text": [
      "        28.7967   16.0021  2.6449  0.3918  0.1982   27.7004    22.011  \\\n",
      "0       31.6036   11.7235  2.5185  0.5303  0.3773   26.2722   23.8238   \n",
      "1      162.0520  136.0310  4.0612  0.0374  0.0187  116.7410  -64.8580   \n",
      "2       23.8172    9.5728  2.3385  0.6147  0.3922   27.2107   -6.4633   \n",
      "3       75.1362   30.9205  3.1611  0.3168  0.1832   -5.5277   28.5525   \n",
      "4       51.6240   21.1502  2.9085  0.2420  0.1340   50.8761   43.1887   \n",
      "...         ...       ...     ...     ...     ...       ...       ...   \n",
      "19014   21.3846   10.9170  2.6161  0.5857  0.3934   15.2618   11.5245   \n",
      "19015   28.9452    6.7020  2.2672  0.5351  0.2784   37.0816   13.1853   \n",
      "19016   75.4455   47.5305  3.4483  0.1417  0.0549   -9.3561   41.0562   \n",
      "19017  120.5135   76.9018  3.9939  0.0944  0.0683    5.8043  -93.5224   \n",
      "19018  187.1814   53.0014  3.2093  0.2876  0.1539 -167.3125 -168.4558   \n",
      "\n",
      "       -8.2027   40.092   81.8828  g  \n",
      "0      -9.9574   6.3609  205.2610  g  \n",
      "1     -45.2160  76.9600  256.7880  g  \n",
      "2      -7.1513  10.4490  116.7370  g  \n",
      "3      21.8393   4.6480  356.4620  g  \n",
      "4       9.8145   3.6130  238.0980  g  \n",
      "...        ...      ...       ... ..  \n",
      "19014   2.8766   2.4229  106.8258  h  \n",
      "19015  -2.9632  86.7975  247.4560  h  \n",
      "19016  -9.4662  30.2987  256.5166  h  \n",
      "19017 -63.8389  84.6874  408.3166  h  \n",
      "19018  31.4755  52.7310  272.3174  h  \n",
      "\n",
      "[19019 rows x 11 columns]\n"
     ]
    }
   ],
   "source": [
    "print(dataframe)"
   ]
  },
  {
   "cell_type": "code",
   "execution_count": null,
   "metadata": {},
   "outputs": [],
   "source": []
  }
 ],
 "metadata": {
  "kernelspec": {
   "display_name": "venv",
   "language": "python",
   "name": "python3"
  },
  "language_info": {
   "codemirror_mode": {
    "name": "ipython",
    "version": 3
   },
   "file_extension": ".py",
   "mimetype": "text/x-python",
   "name": "python",
   "nbconvert_exporter": "python",
   "pygments_lexer": "ipython3",
   "version": "3.11.5"
  },
  "orig_nbformat": 4
 },
 "nbformat": 4,
 "nbformat_minor": 2
}
