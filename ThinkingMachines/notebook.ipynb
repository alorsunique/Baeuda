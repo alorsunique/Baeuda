{
 "cells": [
  {
   "cell_type": "code",
   "execution_count": 19,
   "metadata": {},
   "outputs": [],
   "source": [
    "import numpy as np\n",
    "import pandas as pd\n",
    "import matplotlib.pyplot as plt\n",
    "\n",
    "import statistics as st\n"
   ]
  },
  {
   "cell_type": "code",
   "execution_count": 27,
   "metadata": {},
   "outputs": [
    {
     "name": "stdout",
     "output_type": "stream",
     "text": [
      "2.5\n",
      "2.5\n",
      "Counter({1: 1, 2: 1, 3: 1, 4: 1})\n",
      "[(1, 1), (2, 1), (3, 1), (4, 1)]\n",
      "[1, 2, 3, 4]\n",
      "1.75\n",
      "3.25\n"
     ]
    },
    {
     "ename": "NameError",
     "evalue": "name 'perc_25' is not defined",
     "output_type": "error",
     "traceback": [
      "\u001b[1;31m---------------------------------------------------------------------------\u001b[0m",
      "\u001b[1;31mNameError\u001b[0m                                 Traceback (most recent call last)",
      "Cell \u001b[1;32mIn[27], line 29\u001b[0m\n\u001b[0;32m     26\u001b[0m percent_25 \u001b[38;5;241m=\u001b[39m np\u001b[38;5;241m.\u001b[39mpercentile(input_list,\u001b[38;5;241m75\u001b[39m,method\u001b[38;5;241m=\u001b[39m\u001b[38;5;124m\"\u001b[39m\u001b[38;5;124mlinear\u001b[39m\u001b[38;5;124m\"\u001b[39m)\n\u001b[0;32m     27\u001b[0m \u001b[38;5;28mprint\u001b[39m(percent_25)\n\u001b[1;32m---> 29\u001b[0m \u001b[38;5;28mprint\u001b[39m(\u001b[38;5;124mf\u001b[39m\u001b[38;5;124m\"\u001b[39m\u001b[38;5;124m(\u001b[39m\u001b[38;5;132;01m{\u001b[39;00minput_mean\u001b[38;5;132;01m}\u001b[39;00m\u001b[38;5;124m,\u001b[39m\u001b[38;5;132;01m{\u001b[39;00minput_median\u001b[38;5;132;01m}\u001b[39;00m\u001b[38;5;124m,\u001b[39m\u001b[38;5;132;01m{\u001b[39;00minput_mode\u001b[38;5;132;01m}\u001b[39;00m\u001b[38;5;124m,\u001b[39m\u001b[38;5;132;01m{\u001b[39;00m\u001b[43mperc_25\u001b[49m\u001b[38;5;132;01m}\u001b[39;00m\u001b[38;5;124m,\u001b[39m\u001b[38;5;132;01m{\u001b[39;00mperc_75\u001b[38;5;132;01m}\u001b[39;00m\u001b[38;5;124m)\u001b[39m\u001b[38;5;124m\"\u001b[39m)\n",
      "\u001b[1;31mNameError\u001b[0m: name 'perc_25' is not defined"
     ]
    }
   ],
   "source": [
    "\n",
    "import numpy as np\n",
    "from collections import Counter\n",
    "\n",
    "\n",
    "input_list = [1,2,3,4]\n",
    "\n",
    "input_mean = np.mean(input_list)\n",
    "print(input_mean)\n",
    "\n",
    "input_median = np.median(input_list)\n",
    "print(input_median)\n",
    "\n",
    "input_mode = Counter(input_list)\n",
    "print(input_mode)\n",
    "\n",
    "print(input_mode.most_common())\n",
    "\n",
    "mode_list = []\n",
    "for entry in input_mode.most_common():\n",
    "    mode_list.append(entry[0])\n",
    "\n",
    "print(mode_list)\n",
    "\n",
    "percent_25 = np.percentile(input_list,25,method=\"linear\")\n",
    "print(percent_25)\n",
    "\n",
    "percent_75 = np.percentile(input_list,75,method=\"linear\")\n",
    "print(percent_75)\n",
    "\n",
    "print(f\"({input_mean},{input_median},{mode_list},{percent_25},{percent_75})\")"
   ]
  },
  {
   "cell_type": "code",
   "execution_count": 23,
   "metadata": {},
   "outputs": [
    {
     "data": {
      "text/plain": [
       "array([[0.18417641, 0.37002523, 0.01434712, 0.60469543, 0.10744408,\n",
       "        0.49458176, 0.13187751, 0.04753796, 0.94523826, 0.36304816,\n",
       "        0.5911573 , 0.67254301, 0.90026486, 0.88736922, 0.58634942,\n",
       "        0.80444552, 0.59409147, 0.5975319 , 0.17011591, 0.68610351,\n",
       "        0.76300194, 0.14204897, 0.93007676, 0.6209709 , 0.1040082 ,\n",
       "        0.49806528, 0.27960025, 0.91895504, 0.1760139 , 0.28059227,\n",
       "        0.02588061, 0.17855005, 0.1641755 , 0.46909448, 0.22509581,\n",
       "        0.43062898, 0.49582904, 0.65354494, 0.59524881, 0.93480179,\n",
       "        0.20991671, 0.32829717, 0.37628059, 0.64878738, 0.37954552,\n",
       "        0.50677081, 0.20930789, 0.83225718, 0.26769914, 0.82739433,\n",
       "        0.69744647, 0.62442837, 0.65858757, 0.82533842, 0.62546402,\n",
       "        0.3882416 , 0.21941893, 0.73262344, 0.90036622, 0.22585446,\n",
       "        0.13857916, 0.82371545, 0.71123905, 0.16793497, 0.32812836,\n",
       "        0.51656484, 0.68646041, 0.35922   , 0.40987896, 0.61562604,\n",
       "        0.91959781, 0.06775357, 0.15513234, 0.39167041, 0.05415828,\n",
       "        0.65061366, 0.13826901, 0.99312092, 0.30869272, 0.4570521 ,\n",
       "        0.87082422, 0.02538706, 0.38277905, 0.13205333, 0.84072102,\n",
       "        0.98178218, 0.95899044, 0.07253002, 0.11572255, 0.28069839,\n",
       "        0.40201503, 0.38890497, 0.3461325 , 0.88640696, 0.70090207,\n",
       "        0.89352539, 0.94512308, 0.53823341, 0.69675218, 0.33323838]])"
      ]
     },
     "execution_count": 23,
     "metadata": {},
     "output_type": "execute_result"
    }
   ],
   "source": [
    "\n",
    "\n"
   ]
  },
  {
   "cell_type": "code",
   "execution_count": null,
   "metadata": {},
   "outputs": [],
   "source": []
  }
 ],
 "metadata": {
  "kernelspec": {
   "display_name": "venv",
   "language": "python",
   "name": "python3"
  },
  "language_info": {
   "codemirror_mode": {
    "name": "ipython",
    "version": 3
   },
   "file_extension": ".py",
   "mimetype": "text/x-python",
   "name": "python",
   "nbconvert_exporter": "python",
   "pygments_lexer": "ipython3",
   "version": "3.11.5"
  }
 },
 "nbformat": 4,
 "nbformat_minor": 2
}
