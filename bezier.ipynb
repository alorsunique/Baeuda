{
 "cells": [
  {
   "cell_type": "code",
   "execution_count": 23,
   "metadata": {},
   "outputs": [],
   "source": [
    "import numpy as np\n",
    "import matplotlib.pyplot as plt\n",
    "import math"
   ]
  },
  {
   "cell_type": "code",
   "execution_count": 4,
   "metadata": {},
   "outputs": [
    {
     "name": "stdout",
     "output_type": "stream",
     "text": [
      "(1, 2)\n",
      "(4, 10)\n",
      "(5, 0)\n"
     ]
    },
    {
     "data": {
      "image/png": "[encoded data removed]",
      "text/plain": [
       "<Figure size 640x480 with 1 Axes>"
      ]
     },
     "metadata": {},
     "output_type": "display_data"
    }
   ],
   "source": [
    "point_list = [(1,2),(4,10),(5,0)]\n",
    "\n",
    "plt.figure()\n",
    "\n",
    "for point in point_list:\n",
    "    print(point)\n",
    "    plt.scatter(point[0],point[1])\n",
    "\n",
    "plt.show()"
   ]
  },
  {
   "cell_type": "code",
   "execution_count": 20,
   "metadata": {},
   "outputs": [],
   "source": [
    "def lerp(point_a,point_b,steps):\n",
    "    lerp_point_list = []\n",
    "\n",
    "    x_points = np.linspace(point_a[0],point_b[0],steps+2)\n",
    "    y_points = np.linspace(point_a[1],point_b[1],steps+2)\n",
    "    print(x_points)\n",
    "    print(y_points)\n",
    "\n",
    "    for i in range(len(x_points)):\n",
    "        lerp_point_list.append((x_points[i],y_points[i]))\n",
    "\n",
    "    print(lerp_point_list)\n",
    "    return lerp_point_list"
   ]
  },
  {
   "cell_type": "code",
   "execution_count": 101,
   "metadata": {},
   "outputs": [],
   "source": [
    "def bernstein_basis_polynomial(index, total, step):\n",
    "    choose_part = math.comb(total,index)\n",
    "    exp_part = (1-step)**(total-index)\n",
    "    step_exp_part = step**index\n",
    "\n",
    "    product = choose_part * exp_part * step_exp_part\n",
    "\n",
    "    return product\n",
    "\n",
    "def de_casteljau(point_list,step):\n",
    "\n",
    "    count = 0\n",
    "    x_sum = 0\n",
    "    y_sum = 0\n",
    "\n",
    "    total_points = len(point_list)-1\n",
    "\n",
    "    while count <= total_points:\n",
    "\n",
    "        print(f\"Count: {count} | TP: {total_points} | {step}\")\n",
    "        berstein_multiply = bernstein_basis_polynomial(count,total_points,step)\n",
    "        print(f\"Count: {count} | Bern: {berstein_multiply}\")\n",
    "\n",
    "        x_sum += point_list[count][0] * berstein_multiply\n",
    "        y_sum += point_list[count][1] * berstein_multiply\n",
    "\n",
    "        count +=1\n",
    "\n",
    "    return (x_sum,y_sum)"
   ]
  },
  {
   "cell_type": "code",
   "execution_count": 102,
   "metadata": {},
   "outputs": [
    {
     "name": "stdout",
     "output_type": "stream",
     "text": [
      "Count: 0 | TP: 1 | 0.0\n",
      "Count: 0 | Bern: 1.0\n",
      "Count: 1 | TP: 1 | 0.0\n",
      "Count: 1 | Bern: 0.0\n",
      "Count: 0 | TP: 1 | 0.25\n",
      "Count: 0 | Bern: 0.75\n",
      "Count: 1 | TP: 1 | 0.25\n",
      "Count: 1 | Bern: 0.25\n",
      "Count: 0 | TP: 1 | 0.5\n",
      "Count: 0 | Bern: 0.5\n",
      "Count: 1 | TP: 1 | 0.5\n",
      "Count: 1 | Bern: 0.5\n",
      "Count: 0 | TP: 1 | 0.75\n",
      "Count: 0 | Bern: 0.25\n",
      "Count: 1 | TP: 1 | 0.75\n",
      "Count: 1 | Bern: 0.75\n",
      "Count: 0 | TP: 1 | 1.0\n",
      "Count: 0 | Bern: 0.0\n",
      "Count: 1 | TP: 1 | 1.0\n",
      "Count: 1 | Bern: 1.0\n"
     ]
    }
   ],
   "source": [
    "point_list = [(1,2),(4,10)]\n",
    "\n",
    "step_count = 4\n",
    "\n",
    "step_list = np.linspace(0,1,step_count+1)\n",
    "\n",
    "bezier_point_list = []\n",
    "\n",
    "for current_step in step_list:\n",
    "\n",
    "    bezier_point_list.append(de_casteljau(point_list,current_step))"
   ]
  },
  {
   "cell_type": "code",
   "execution_count": 103,
   "metadata": {},
   "outputs": [
    {
     "data": {
      "text/plain": [
       "[(1.0, 2.0), (1.75, 4.0), (2.5, 6.0), (3.25, 8.0), (4.0, 10.0)]"
      ]
     },
     "execution_count": 103,
     "metadata": {},
     "output_type": "execute_result"
    }
   ],
   "source": [
    "bezier_point_list"
   ]
  },
  {
   "cell_type": "code",
   "execution_count": 40,
   "metadata": {},
   "outputs": [
    {
     "name": "stdout",
     "output_type": "stream",
     "text": [
      "(2.25, 5.5)\n"
     ]
    }
   ],
   "source": [
    "print(de_casteljau(point_list,0.5))"
   ]
  },
  {
   "cell_type": "code",
   "execution_count": 52,
   "metadata": {},
   "outputs": [
    {
     "name": "stdout",
     "output_type": "stream",
     "text": [
      "0\n"
     ]
    }
   ],
   "source": [
    "print(bernstein_basis_polynomial(0,2,1))"
   ]
  },
  {
   "cell_type": "code",
   "execution_count": 82,
   "metadata": {},
   "outputs": [
    {
     "data": {
      "image/png": "[encoded data removed]",
      "text/plain": [
       "<Figure size 640x480 with 1 Axes>"
      ]
     },
     "metadata": {},
     "output_type": "display_data"
    }
   ],
   "source": [
    "step_list = np.linspace(0,1,1000)\n",
    "\n",
    "bern_curve_value = []\n",
    "\n",
    "for step in step_list:\n",
    "    bern_curve_value.append(bernstein_basis_polynomial(4,4,step))\n",
    "\n",
    "plt.plot(step_list,bern_curve_value)\n",
    "plt.xlim(0,1)\n",
    "plt.ylim(0,1)\n",
    "plt.show()"
   ]
  },
  {
   "cell_type": "code",
   "execution_count": null,
   "metadata": {},
   "outputs": [],
   "source": [
    "point_list = [(1,2),(4,10)]\n",
    "\n",
    "step_count = 4\n",
    "\n",
    "step_list = np.linspace(0,1,step_count+1)\n",
    "\n",
    "bezier_point_list = []\n",
    "\n",
    "for current_step in step_list:\n",
    "\n",
    "    bezier_point_list.append(de_casteljau(point_list,current_step))"
   ]
  }
 ],
 "metadata": {
  "kernelspec": {
   "display_name": "venv",
   "language": "python",
   "name": "python3"
  },
  "language_info": {
   "codemirror_mode": {
    "name": "ipython",
    "version": 3
   },
   "file_extension": ".py",
   "mimetype": "text/x-python",
   "name": "python",
   "nbconvert_exporter": "python",
   "pygments_lexer": "ipython3",
   "version": "3.11.5"
  }
 },
 "nbformat": 4,
 "nbformat_minor": 2
}
